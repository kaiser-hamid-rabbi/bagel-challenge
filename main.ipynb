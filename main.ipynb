{
 "cells": [
  {
   "cell_type": "markdown",
   "metadata": {},
   "source": [
    "### Importing Prerequisite Libraries"
   ]
  },
  {
   "cell_type": "code",
   "execution_count": 1,
   "metadata": {},
   "outputs": [],
   "source": [
    "import os\n",
    "from dotenv import load_dotenv\n",
    "import openai\n",
    "\n",
    "# Loading environment variables from the .env file\n",
    "load_dotenv()\n",
    "\n",
    "# Retrieving the OpenAI API key from the environment variables\n",
    "OPENAI_API_KEY = os.getenv(\"OPENAI_API_KEY\")\n",
    "\n",
    "# Defining the GPT model to be used\n",
    "MODEL = \"gpt-3.5-turbo\"\n",
    "\n",
    "# Creating an instance of the OpenAI client with the API key\n",
    "openai_client = openai.OpenAI(api_key=OPENAI_API_KEY)"
   ]
  },
  {
   "cell_type": "markdown",
   "metadata": {},
   "source": [
    "### Setup Bagel client"
   ]
  },
  {
   "cell_type": "code",
   "execution_count": 2,
   "metadata": {},
   "outputs": [
    {
     "name": "stdout",
     "output_type": "stream",
     "text": [
      "1711349683647990288000\n",
      "0.3.26\n"
     ]
    }
   ],
   "source": [
    "import bagel\n",
    "from bagel.config import Settings\n",
    "\n",
    "# Set environment variables (Optional)\n",
    "os.environ['BAGEL_API_KEY'] = os.getenv(\"BAGEL_API_KEY\")\n",
    "os.environ['BAGEL_USER_ID'] = os.getenv(\"BAGEL_USER_ID\")\n",
    "\n",
    "# Configure Bagel server settings for production\n",
    "server_settings = Settings(\n",
    "    bagel_api_impl=\"rest\",\n",
    "    bagel_server_host=\"api.bageldb.ai\",\n",
    ")\n",
    "\n",
    "# Initialize the Bagel client\n",
    "client = bagel.Client(server_settings)\n",
    "\n",
    "# Test server connectivity\n",
    "print(client.ping())\n",
    "\n",
    "# Retrieve server version information\n",
    "print(client.get_version())"
   ]
  },
  {
   "cell_type": "markdown",
   "metadata": {},
   "source": [
    "### Load PDF Document(s)"
   ]
  },
  {
   "cell_type": "code",
   "execution_count": 3,
   "metadata": {},
   "outputs": [
    {
     "data": {
      "text/plain": [
       "[Document(page_content='20 Coding Patterns \\nto master\\nMAANG Interviews\\nDesignGurus.org', metadata={'source': '/home/kaiser/Documents/bagel/pdfs/coding_patterns.pdf', 'page': 0}),\n",
       " Document(page_content='➡ What if you don’t like to solve\\n100s of coding questions before\\nyour interview?\\n➡ Don’t just LeetCode; follow these\\n20 Coding Patterns instead.\\nDesignGurus.org', metadata={'source': '/home/kaiser/Documents/bagel/pdfs/coding_patterns.pdf', 'page': 1}),\n",
       " Document(page_content=\"Usage : This algorithmic technique is used when\\nwe need to handle the input data in a specific\\nwindow size.Sliding Window1.\\nDS Involved : Array, String, HashTable\\nLongest Substring with 'K' Distinct Characters\\nFruits into BasketsSample Problems : \\nDesignGurus.org\", metadata={'source': '/home/kaiser/Documents/bagel/pdfs/coding_patterns.pdf', 'page': 2}),\n",
       " Document(page_content='Usage : This pattern describes all the efficient\\nways of traversing a matrix (or 2D array).2. Islands (Matrix Traversal)\\nDS Involved : Matrix, Queue\\nNumber of Islands\\nFlood Fill\\nCycle in a MatrixSample Problems : \\nDesignGurus.org', metadata={'source': '/home/kaiser/Documents/bagel/pdfs/coding_patterns.pdf', 'page': 3}),\n",
       " Document(page_content='Usage : This technique uses two pointers to\\niterate input data. Generally, both pointers\\nmove in the opposite direction at a constant\\ninterval.3. Two Pointers\\nDS Involved : Array, String, LinkedList\\nSquaring a Sorted Array\\nDutch National Flag Problem\\nMinimum Window SortSample Problems: \\nDesignGurus.org', metadata={'source': '/home/kaiser/Documents/bagel/pdfs/coding_patterns.pdf', 'page': 4}),\n",
       " Document(page_content='Usage : Also known as Hare & Tortoise\\nalgorithm. This technique uses two pointers\\nthat traverse the input data at different speeds.4. Fast & Slow Pointers\\nDS Involved : Array, String, LinkedList\\nMiddle of the LinkedList\\nHappy Number\\nCycle in a Circular ArraySample Problems: \\nDesignGurus.org', metadata={'source': '/home/kaiser/Documents/bagel/pdfs/coding_patterns.pdf', 'page': 5}),\n",
       " Document(page_content='Usage : This technique is used to deal with\\noverlapping intervals.5. Merge Intervals\\nDS Involved : Array, Heap\\nConflicting Appointments\\nMinimum Meeting RoomsSample Problems: \\nDesignGurus.org', metadata={'source': '/home/kaiser/Documents/bagel/pdfs/coding_patterns.pdf', 'page': 6}),\n",
       " Document(page_content='Usage : Use this technique to solve array\\nproblems where the input data lies within a\\nfixed range.6. Cyclic Sort\\nDS Involved : Array\\nFind all Missing Numbers\\nFind all Duplicate Numbers\\nFind the First K Missing Positive NumbersSample Problems: \\nDesignGurus.org', metadata={'source': '/home/kaiser/Documents/bagel/pdfs/coding_patterns.pdf', 'page': 7}),\n",
       " Document(page_content='Usage : This technique describes an efficient\\nway to reverse the links between a set of nodes\\nof a LinkedList. Often, the constraint is that we\\nneed to do this in-place, i.e., using the existing\\nnode objects and without using extra memory.7. In-place Reversal of a LinkedList\\nDS Involved : LinkedList\\nReverse every K-element Sub-list\\nRotate a LinkedListSample Problems: \\nDesignGurus.org', metadata={'source': '/home/kaiser/Documents/bagel/pdfs/coding_patterns.pdf', 'page': 8}),\n",
       " Document(page_content='Usage : This technique is used to solve\\nproblems involving traversing trees or graphs in\\na breadth-first search manner.8. Breadth-First Search\\nDS Involved : Tree, Graph, Matrix, Queue\\nBinary Tree Level Order Traversal\\nMinimum Depth of a Binary Tree\\nConnect Level Order SiblingsSample Problems: \\nDesignGurus.org', metadata={'source': '/home/kaiser/Documents/bagel/pdfs/coding_patterns.pdf', 'page': 9}),\n",
       " Document(page_content='Usage : This technique is used to solve\\nproblems involving traversing trees or graphs in\\na depth-first search manner.9. Depth First Search\\nDS Involved : Tree, Graph, Matrix\\nPath With Given Sequence\\nCount Paths for a SumSample Problems: \\nDesignGurus.org', metadata={'source': '/home/kaiser/Documents/bagel/pdfs/coding_patterns.pdf', 'page': 10}),\n",
       " Document(page_content='Usage : In many problems, we are given a set of\\nelements that can be divided into two parts. We\\nare interested in knowing the smallest element\\nin one part and the biggest element in the other\\npart. As the name suggests, this technique uses\\na Min-Heap to find the smallest element and a\\nMax-Heap to find the biggest element.10. Two Heaps\\nDS Involved : Heap, Array\\nFind the Median of a Number Stream\\nNext IntervalSample Problems: \\nDesignGurus.org', metadata={'source': '/home/kaiser/Documents/bagel/pdfs/coding_patterns.pdf', 'page': 11}),\n",
       " Document(page_content='Usage : Use this technique when the problem\\nasks to deal with permutations or combinations\\nof a set of elements.11. Subsets\\nDS Involved : Queue, Array, String\\nString Permutations by changing case\\nUnique Generalized AbbreviationsSample Problems: \\nDesignGurus.org', metadata={'source': '/home/kaiser/Documents/bagel/pdfs/coding_patterns.pdf', 'page': 12}),\n",
       " Document(page_content='Usage : Use this technique to search a sorted\\nset of elements efficiently.12. Modified Binary Search\\nDS Involved : Array\\nCeiling of a Number\\nBitonic Array MaximumSample Problems: \\nDesignGurus.org', metadata={'source': '/home/kaiser/Documents/bagel/pdfs/coding_patterns.pdf', 'page': 13}),\n",
       " Document(page_content='Usage : This technique uses the XOR operator\\nto manipulate bits to solve problems.13. Bitwise XOR\\nDS Involved : Array, Bits\\nTwo Single Numbers\\nFlip and Invert an ImageSample Problems: \\nDesignGurus.org', metadata={'source': '/home/kaiser/Documents/bagel/pdfs/coding_patterns.pdf', 'page': 14}),\n",
       " Document(page_content='Usage : This technique is used to find\\ntop/smallest/frequently occurring ‘K’ elements in\\na set.14. Top ‘K’ Elements\\nDS Involved : Array, Heap, Queue\\n‘K’ Closest Points to the Origin\\nMaximum Distinct ElementsSample Problems: \\nDesignGurus.org', metadata={'source': '/home/kaiser/Documents/bagel/pdfs/coding_patterns.pdf', 'page': 15}),\n",
       " Document(page_content='Usage : This technique helps us solve problems\\nthat involve a list of sorted arrays.15. K-way Merge\\nDS Involved : Array, Queue, Heap\\nKth Smallest Number in M Sorted Lists\\nKth Smallest Number in a Sorted MatrixSample Problems: \\nDesignGurus.org', metadata={'source': '/home/kaiser/Documents/bagel/pdfs/coding_patterns.pdf', 'page': 16}),\n",
       " Document(page_content='Usage : Use this technique to find a linear\\nordering of elements that have dependencies\\non each other.16. Topological Sort\\nDS Involved : Array, HashTable, Queue, Graph\\nTasks Scheduling\\nAlien DictionarySample Problems: \\nDesignGurus.org', metadata={'source': '/home/kaiser/Documents/bagel/pdfs/coding_patterns.pdf', 'page': 17}),\n",
       " Document(page_content='Usage : This technique is used to solve\\noptimization problems. Use this technique to\\nselect elements that give maximum profit from\\na given set with a limitation on capacity and that\\neach element can only be picked once.17. 0/1 Knapsack\\nDS Involved : Array, HashTable\\nEqual Subset Sum Partition\\nMinimum Subset Sum DifferenceSample Problems: \\nDesignGurus.org', metadata={'source': '/home/kaiser/Documents/bagel/pdfs/coding_patterns.pdf', 'page': 18}),\n",
       " Document(page_content='Usage : Use this technique to solve problems\\nthat follow the Fibonacci numbers sequence,\\ni.e., every subsequent number is calculated\\nfrom the last few numbers.18. Fibonacci Numbers\\nDS Involved : Array, HashTable\\nStaircase\\nHouse ThiefSample Problems: \\nDesignGurus.org', metadata={'source': '/home/kaiser/Documents/bagel/pdfs/coding_patterns.pdf', 'page': 19}),\n",
       " Document(page_content='Usage : This technique is used to solve\\noptimization problems related to palindromic\\nsequences or strings.19. Palindromic Subsequence\\n \\nDS Involved : Array, HashTable\\nLongest Palindromic Subsequence\\nMinimum Deletions in a String to make it a\\nPalindromeSample Problems: \\nDesignGurus.org', metadata={'source': '/home/kaiser/Documents/bagel/pdfs/coding_patterns.pdf', 'page': 20}),\n",
       " Document(page_content='Usage : Use this technique to find the optimal\\npart of a string/sequence or set of\\nstrings/sequences.20. Longest Common Substring\\nDS Involved : Array, HashTable\\nMaximum Sum Increasing Subsequence\\nEdit DistanceSample Problems: \\nDesignGurus.org', metadata={'source': '/home/kaiser/Documents/bagel/pdfs/coding_patterns.pdf', 'page': 21}),\n",
       " Document(page_content='➡ Follow these techniques to\\ndistinguish yourself from others! \\n➡ All these patterns are discussed in\\n\"Grokking the Coding Interview\" and\\n\"Grokking Dynamic Programming\"\\nfrom DesignGurus.org\\nDesignGurus.org', metadata={'source': '/home/kaiser/Documents/bagel/pdfs/coding_patterns.pdf', 'page': 22})]"
      ]
     },
     "execution_count": 3,
     "metadata": {},
     "output_type": "execute_result"
    }
   ],
   "source": [
    "from langchain_community.document_loaders import PyPDFLoader\n",
    "\n",
    "# Expecting the PDF file with meaningful name\n",
    "filepath = \"./pdfs/coding_patterns.pdf\"\n",
    "# Extracting the filename without extension\n",
    "filename = os.path.basename(filepath).replace(\".pdf\", \"\")\n",
    "\n",
    "# Loading and splitting the PDF into pages\n",
    "loader = PyPDFLoader(filepath)\n",
    "pages = loader.load_and_split()\n",
    "pages"
   ]
  },
  {
   "cell_type": "markdown",
   "metadata": {},
   "source": [
    "### Create Cluster"
   ]
  },
  {
   "cell_type": "code",
   "execution_count": 4,
   "metadata": {},
   "outputs": [
    {
     "name": "stdout",
     "output_type": "stream",
     "text": [
      "Cluster created: name='coding_patterns' id=UUID('e2a5e264-6f43-4cd3-84bb-19cdacf6569b') cluster_size=2.0 embedding_size=None metadata={}\n"
     ]
    }
   ],
   "source": [
    "cluster=client.get_or_create_cluster(name = filename, embedding_model=\"bagel-text\")\n",
    "print(f\"Cluster created: {cluster}\")"
   ]
  },
  {
   "cell_type": "markdown",
   "metadata": {},
   "source": [
    "### Add documents into the cluster"
   ]
  },
  {
   "cell_type": "code",
   "execution_count": 5,
   "metadata": {},
   "outputs": [],
   "source": [
    "from langchain.vectorstores import Bagel\n",
    "\n",
    "for i, page in enumerate(pages):\n",
    "    cluster.add(\n",
    "  documents=[page.page_content],\n",
    "  metadatas=[page.metadata],\n",
    "  ids=[str(pages[i].metadata[\"page\"])]\n",
    ")"
   ]
  },
  {
   "cell_type": "code",
   "execution_count": 6,
   "metadata": {},
   "outputs": [],
   "source": [
    "import tiktoken\n",
    "\n",
    "# Setting the topic based on the filename\n",
    "TOPIC= filename.replace(\"_\", \" \")\n",
    "\n",
    "def num_tokens(text: str, model: str = MODEL) -> int:\n",
    "    \"\"\"Calculates and returns the number of tokens in the provided text using the specified model's tokenizer.\"\"\"\n",
    "    encoding = tiktoken.encoding_for_model(model)\n",
    "    return len(encoding.encode(text))\n",
    "\n",
    "def query_message(query: str, model: str, token_budget: int, print_message: bool = False) -> str:\n",
    "    f\"\"\"Constructs a query message for the GPT model by including relevant {TOPIC} articles from Bagel DB based on the search query.\"\"\"\n",
    "    # Search the cluster for documents related to the query\n",
    "    response = cluster.find(query_texts=[query], n_results=5)\n",
    "    documents, distances, metadatas = map(lambda l: list([item for sublist in l for item in sublist]),\n",
    "                                          (response['documents'], response['distances'], response['metadatas']))\n",
    "\n",
    "    if print_message:\n",
    "      print(\"Found following documents:\")\n",
    "      for metadata, distance in zip(metadatas, distances):\n",
    "          print(f\"Metadata: {metadata}\\n\" + \"-\" * 50)\n",
    "\n",
    "    introduction = f'Use the below articles on the {TOPIC}. If the answer cannot be found in the articles, write \"Sorry, I could not find an answer.\"'\n",
    "    question = f\"\\n\\nQuestion: {query}\"\n",
    "    message = introduction\n",
    "    for string in documents:\n",
    "        next_article = f'\\n\\n{TOPIC}:\\n\"\"\"\\n{string}\\n\"\"\"'\n",
    "        if (\n",
    "            num_tokens(message + next_article + question, model=model)\n",
    "            > token_budget\n",
    "        ):\n",
    "            break\n",
    "        else:\n",
    "            message += next_article\n",
    "    return message + question\n",
    "\n",
    "def ask(query: str, model: str = MODEL, token_budget: int = 3596, print_message: bool = False) -> str:\n",
    "    \"\"\"Generates an answer to the given query by assembling relevant texts and querying the GPT model, while adhering to a token budget.\"\"\"\n",
    "    message = query_message(query, model=model, token_budget=token_budget, print_message=print_message)\n",
    "\n",
    "    messages = [\n",
    "        {\"role\": \"system\", \"content\": f\"You answer questions about the {TOPIC}.\"},\n",
    "        {\"role\": \"user\", \"content\": message}\n",
    "    ]\n",
    "    response = openai_client.chat.completions.create(model=model, messages=messages, temperature=0)\n",
    "\n",
    "    print(\"Response from agent:\")\n",
    "    return response.choices[0].message.content"
   ]
  },
  {
   "cell_type": "code",
   "execution_count": 7,
   "metadata": {},
   "outputs": [
    {
     "name": "stdout",
     "output_type": "stream",
     "text": [
      "Found following documents:\n",
      "Response from agent:\n"
     ]
    },
    {
     "data": {
      "text/plain": [
       "'Two Pointers is a coding pattern that involves using two pointers that can move towards each other or in the same direction to solve problems efficiently. This pattern is often used to optimize solutions for problems that involve arrays or linked lists. By using two pointers, you can iterate through the data structure in a more efficient way, often reducing the time complexity of the algorithm. The two pointers can be used to solve problems like finding pairs that meet certain conditions, finding subarrays with a specific sum, or detecting cycles in a linked list.'"
      ]
     },
     "execution_count": 7,
     "metadata": {},
     "output_type": "execute_result"
    }
   ],
   "source": [
    "# Ask relevant questions about the topic\n",
    "ask('Tell me about Two Pointers.', print_message=True)"
   ]
  },
  {
   "cell_type": "code",
   "execution_count": 8,
   "metadata": {},
   "outputs": [
    {
     "name": "stdout",
     "output_type": "stream",
     "text": [
      "Found following documents:\n",
      "Response from agent:\n"
     ]
    },
    {
     "data": {
      "text/plain": [
       "'Depth First Search (DFS) is a graph traversal algorithm that explores as far as possible along each branch before backtracking. It starts at the root node and explores as far as possible along each branch before backtracking. This algorithm can be implemented using recursion or a stack data structure.'"
      ]
     },
     "execution_count": 8,
     "metadata": {},
     "output_type": "execute_result"
    }
   ],
   "source": [
    "# Ask relevant questions about the topic\n",
    "ask('What is Depth First Search?', print_message=True)"
   ]
  },
  {
   "cell_type": "code",
   "execution_count": 9,
   "metadata": {},
   "outputs": [
    {
     "name": "stdout",
     "output_type": "stream",
     "text": [
      "Found following documents:\n",
      "Response from agent:\n"
     ]
    },
    {
     "data": {
      "text/plain": [
       "'Fibonacci numbers are a sequence of numbers in which each number is the sum of the two preceding ones, usually starting with 0 and 1. The sequence goes like this: 0, 1, 1, 2, 3, 5, 8, 13, 21, and so on. This pattern can be implemented in various programming languages using different approaches such as recursion, iteration, or dynamic programming. It is a common example used to demonstrate coding patterns like recursion and dynamic programming.'"
      ]
     },
     "execution_count": 9,
     "metadata": {},
     "output_type": "execute_result"
    }
   ],
   "source": [
    "# Ask relevant questions about the topic\n",
    "ask('Descirbe Fibonacci Numbers', print_message=True)"
   ]
  },
  {
   "cell_type": "code",
   "execution_count": 10,
   "metadata": {},
   "outputs": [
    {
     "name": "stdout",
     "output_type": "stream",
     "text": [
      "Response from agent:\n"
     ]
    },
    {
     "data": {
      "text/plain": [
       "'Sorry, I could not find an answer.'"
      ]
     },
     "execution_count": 10,
     "metadata": {},
     "output_type": "execute_result"
    }
   ],
   "source": [
    "# Ask irrelevant question which is not in the topic\n",
    "ask('Tell me about Bagel')"
   ]
  },
  {
   "cell_type": "code",
   "execution_count": 11,
   "metadata": {},
   "outputs": [
    {
     "name": "stdout",
     "output_type": "stream",
     "text": [
      "Response from agent:\n"
     ]
    },
    {
     "data": {
      "text/plain": [
       "'Sorry, I could not find an answer.'"
      ]
     },
     "execution_count": 11,
     "metadata": {},
     "output_type": "execute_result"
    }
   ],
   "source": [
    "# Ask irrelevant question which is not in the topic\n",
    "ask('What is Machine Learning?')"
   ]
  },
  {
   "cell_type": "markdown",
   "metadata": {},
   "source": [
    "### The END"
   ]
  }
 ],
 "metadata": {
  "kernelspec": {
   "display_name": "dsa",
   "language": "python",
   "name": "python3"
  },
  "language_info": {
   "codemirror_mode": {
    "name": "ipython",
    "version": 3
   },
   "file_extension": ".py",
   "mimetype": "text/x-python",
   "name": "python",
   "nbconvert_exporter": "python",
   "pygments_lexer": "ipython3",
   "version": "3.10.12"
  }
 },
 "nbformat": 4,
 "nbformat_minor": 2
}
